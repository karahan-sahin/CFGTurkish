{
 "cells": [
  {
   "cell_type": "markdown",
   "metadata": {},
   "source": [
    "# Parser"
   ]
  },
  {
   "cell_type": "code",
   "execution_count": 1,
   "metadata": {},
   "outputs": [],
   "source": [
    "from CKYParser import CKYParser\n",
    "from _utils import dense_results, evaluation"
   ]
  },
  {
   "cell_type": "code",
   "execution_count": 2,
   "metadata": {},
   "outputs": [],
   "source": [
    "parser = CKYParser()"
   ]
  },
  {
   "cell_type": "code",
   "execution_count": 3,
   "metadata": {},
   "outputs": [],
   "source": [
    "sample = parser.parse( [\"Tarihi\", \"roman+lAr+(y)H\", \"keyif+(y)lA\", \"oku+(H)yor+(H)m\", \".\"])"
   ]
  },
  {
   "cell_type": "code",
   "execution_count": 4,
   "metadata": {},
   "outputs": [
    {
     "data": {
      "text/html": [
       "<div>\n",
       "<style scoped>\n",
       "    .dataframe tbody tr th:only-of-type {\n",
       "        vertical-align: middle;\n",
       "    }\n",
       "\n",
       "    .dataframe tbody tr th {\n",
       "        vertical-align: top;\n",
       "    }\n",
       "\n",
       "    .dataframe thead th {\n",
       "        text-align: right;\n",
       "    }\n",
       "</style>\n",
       "<table border=\"1\" class=\"dataframe\">\n",
       "  <thead>\n",
       "    <tr style=\"text-align: right;\">\n",
       "      <th></th>\n",
       "      <th>Tarihi</th>\n",
       "      <th>roman+lAr+(y)H</th>\n",
       "      <th>keyif+(y)lA</th>\n",
       "      <th>oku+(H)yor+(H)m</th>\n",
       "      <th>.</th>\n",
       "    </tr>\n",
       "  </thead>\n",
       "  <tbody>\n",
       "    <tr>\n",
       "      <th>0</th>\n",
       "      <td>{ADJP, ADJ}</td>\n",
       "      <td>{NP.Acc}</td>\n",
       "      <td>None</td>\n",
       "      <td>{VP, S}</td>\n",
       "      <td>{S}</td>\n",
       "    </tr>\n",
       "    <tr>\n",
       "      <th>1</th>\n",
       "      <td>None</td>\n",
       "      <td>{Noun, Pnoun, NP.Acc}</td>\n",
       "      <td>None</td>\n",
       "      <td>{VP, S}</td>\n",
       "      <td>{S}</td>\n",
       "    </tr>\n",
       "    <tr>\n",
       "      <th>2</th>\n",
       "      <td>None</td>\n",
       "      <td>None</td>\n",
       "      <td>{Noun, NP.Ins}</td>\n",
       "      <td>{VP}</td>\n",
       "      <td>{x1, x0, S}</td>\n",
       "    </tr>\n",
       "    <tr>\n",
       "      <th>3</th>\n",
       "      <td>None</td>\n",
       "      <td>None</td>\n",
       "      <td>None</td>\n",
       "      <td>{Verb, VP, S}</td>\n",
       "      <td>{x1, x0, S}</td>\n",
       "    </tr>\n",
       "    <tr>\n",
       "      <th>4</th>\n",
       "      <td>None</td>\n",
       "      <td>None</td>\n",
       "      <td>None</td>\n",
       "      <td>None</td>\n",
       "      <td>{PUNCT}</td>\n",
       "    </tr>\n",
       "  </tbody>\n",
       "</table>\n",
       "</div>"
      ],
      "text/plain": [
       "        Tarihi         roman+lAr+(y)H     keyif+(y)lA oku+(H)yor+(H)m  \\\n",
       "0  {ADJP, ADJ}               {NP.Acc}            None         {VP, S}   \n",
       "1         None  {Noun, Pnoun, NP.Acc}            None         {VP, S}   \n",
       "2         None                   None  {Noun, NP.Ins}            {VP}   \n",
       "3         None                   None            None   {Verb, VP, S}   \n",
       "4         None                   None            None            None   \n",
       "\n",
       "             .  \n",
       "0          {S}  \n",
       "1          {S}  \n",
       "2  {x1, x0, S}  \n",
       "3  {x1, x0, S}  \n",
       "4      {PUNCT}  "
      ]
     },
     "execution_count": 4,
     "metadata": {},
     "output_type": "execute_result"
    }
   ],
   "source": [
    "sample"
   ]
  },
  {
   "cell_type": "code",
   "execution_count": 5,
   "metadata": {},
   "outputs": [],
   "source": [
    "flat= dense_results(sample)"
   ]
  },
  {
   "cell_type": "markdown",
   "metadata": {},
   "source": [
    "## Evaluation"
   ]
  },
  {
   "cell_type": "code",
   "execution_count": 15,
   "metadata": {},
   "outputs": [],
   "source": [
    "sentences = [\n",
    "    [\"Dün\", \"arkadaş+(H)m+(y)A\", \"bir\", \"hediye\", \"al+DH+(H)m\", \".\"],\n",
    "    [\"Tarihi\", \"roman+lAr+(y)H\", \"keyif+(y)lA\", \"oku+(H)yor+(H)m\", \".\"],\n",
    "    [\"Ben\", \"dün\", \"akşam\", \"yemek+(y)H\", \"için\", \"anne+(H)m+(y)A\", \"yardım\", \"et+DH+(H)m\", \".\"],\n",
    "    [\"Destan+lAr\", \"milli\", \"kültür+(H)mHz+(y)H\", \"ve\", \"tarih+(H)mHz+(y)H\", \"anlat+Hr\", \".\"],\n",
    "    [\"Yaz\", \"meyve+lAr+(H)n+DAn\", \"karpuz\", \"bence\", \"en\", \"güzel\", \"meyve+DHr\", \".\"],\n",
    "    [\"Bu\", \"akşam+ki\", \"toplantı+(y)A\", \"katıl+(y)AcAk\", \"mi+(sH)nHz\", \"?\"],\n",
    "    [\"Bu\", \"ağaç+(n)Hn\", \"alt+(n)H+nDA\", \"her\", \"gece\", \"mehtap+(y)H\", \"izle+Hr+DH+k\", \".\" ],\n",
    "    [\"Siz\", \"bura+(y)A\", \"en\", \"son\", \"ne\", \"zaman\", \"gel+DH+(sH)nHz\", \"?\"],\n",
    "    [\"Anadolu+(n)Hn\", \"dört\", \"yan+(n)H\", \"medeniyet+(n)Hn\", \"beşik+nH+DHr\", \".\"],\n",
    "    [\"Orhun\", \"Abide+lAr+(n)H\", \"Türkçe+(n)Hn\", \"ilk\", \"yazılı\", \"örnek+lAr+(n)H+DHr\", \".\"], \n",
    "    [\"Okul\", \"biz+(H)m\", \"köy+(y)A\", \"epeyce\", \"uzak+DA+DH\", \".\"],\n",
    "    [\"Yüksek\", \"ses+(y)lA\", \"müzik\", \"dinle+mA\", \".\"],\n",
    "]"
   ]
  },
  {
   "cell_type": "code",
   "execution_count": 7,
   "metadata": {},
   "outputs": [],
   "source": [
    "test = [\n",
    "    [\"ADV\", \"NP.Dat\", \"Det\", \"NP.Bare\", \"Verb\", \"PUNCT\", \"S\"],\n",
    "    [\"ADJ\", \"NP.Acc\", \"NP.Ins\", \"Verb\", \"PUNCT\", \"S\"],\n",
    "    [\"NP.Nom\", \"ADV\", \"NP.Acc\", \"POSTP\", \"NP.Dat\", \"NP.Bare\", \"Verb\", \"PUNCT\", \"S\"],\n",
    "    [\"NP.Nom\", \"NP.Bare\", \"NP.Acc\", \"Conj\", \"NP.Acc\", \"Verb\", \"PUNCT\", \"VP\"],\n",
    "    [\"NP.Bare\", \"NP.Abl\", \"NP.Nom\", \"ADV\", \"ADV\", \"ADJ\", \"NP.Pred\", \"PUNCT\", \"S\"],\n",
    "    [\"Det\", \"NP.Rel\", \"NP.Dat\", \"Verb\", \"Ques\", \"PUNCT.Ques\", \"QuesP\", \"S\"],\n",
    "    [\"Det\", \"NP.Gen\", \"NP.Dat\", \"Det\", \"NP\", \"NP.Acc\", \"Verb\", \"PUNCT\"],\n",
    "    [\"NP.Nom\", \"NP.Dat\", \"ADV\", \"ADJ\", \"Ques\", \"NP.Bare\", \"Verb\", \"PUNCT.Ques\", \"QuesP\"],\n",
    "    [\"NP.Gen\", \"ADJ\", \"NP.Poss\", \"NP.Gen\", \"NP.Pred\", \"PUNCT\", \"S\"],\n",
    "    [\"NP.Bare\", \"ProperNoun.Poss\", \"NP.Gen\", \"ADJ\", \"NP\", \"NP.Pred\", \"PUNCT\", \"S\"],\n",
    "    [\"NP.Nom\", \"NP.Gen\", \"NP.Dat\", \"ADV\", \"NP.Pred\",\"PUNCT\", \"S\", \"VP\"],\n",
    "    [\"ADJ\", \"NP.Ins\", \"NP.Bare\", \"Verb\", \"PUNCT\", \"VP\"]\n",
    "]"
   ]
  },
  {
   "cell_type": "code",
   "execution_count": 10,
   "metadata": {},
   "outputs": [],
   "source": [
    "p,r,f_1 = evaluation(y_pred=flat,y_true=test[1])"
   ]
  },
  {
   "cell_type": "code",
   "execution_count": 11,
   "metadata": {},
   "outputs": [
    {
     "name": "stdout",
     "output_type": "stream",
     "text": [
      "Precision: 0.24\n",
      "Recall: 1.0\n",
      "F_measure: 0.3870967741935484\n",
      "\n"
     ]
    }
   ],
   "source": [
    "print(f\"Precision: {p}\\nRecall: {r}\\nF_measure: {f_1}\\n\")"
   ]
  },
  {
   "cell_type": "code",
   "execution_count": 14,
   "metadata": {},
   "outputs": [],
   "source": [
    "total_precision = 0\n",
    "total_recall = 0\n",
    "total_f_measure = 0"
   ]
  },
  {
   "cell_type": "code",
   "execution_count": 17,
   "metadata": {},
   "outputs": [],
   "source": [
    "for x, y_true in zip(sentences, test):\n",
    "    parser = CKYParser()\n",
    "    y_pred = parser.parse(x)\n",
    "    p,r,f_1 = evaluation(y_pred,y_true)\n",
    "    total_precision += p\n",
    "    total_recall += r\n",
    "    total_f_measure += f_1\n",
    "\n",
    "total_precision = total_precision/len(test)\n",
    "total_recall = total_recall/len(test)\n",
    "total_f_measure = total_f_measure/len(test)"
   ]
  },
  {
   "cell_type": "code",
   "execution_count": 18,
   "metadata": {},
   "outputs": [
    {
     "name": "stdout",
     "output_type": "stream",
     "text": [
      "Precision: 0.18718288801577834\n",
      "Recall: 0.8523478835978837\n",
      "F_measure: 0.3051761973957813\n",
      "\n"
     ]
    }
   ],
   "source": [
    "print(f\"Precision: {total_precision}\\nRecall: {total_recall}\\nF_measure: {total_f_measure}\\n\")"
   ]
  },
  {
   "cell_type": "markdown",
   "metadata": {},
   "source": [
    "## Agreement Errors"
   ]
  },
  {
   "cell_type": "markdown",
   "metadata": {},
   "source": []
  }
 ],
 "metadata": {
  "interpreter": {
   "hash": "1b2ee09346b12b20666ff8ab9c6a805ce59525a9c9e560212a0c04b65e7b17e0"
  },
  "kernelspec": {
   "display_name": "Python 3.8.8 64-bit ('base': conda)",
   "language": "python",
   "name": "python3"
  },
  "language_info": {
   "codemirror_mode": {
    "name": "ipython",
    "version": 3
   },
   "file_extension": ".py",
   "mimetype": "text/x-python",
   "name": "python",
   "nbconvert_exporter": "python",
   "pygments_lexer": "ipython3",
   "version": "3.8.8"
  },
  "orig_nbformat": 4
 },
 "nbformat": 4,
 "nbformat_minor": 2
}
